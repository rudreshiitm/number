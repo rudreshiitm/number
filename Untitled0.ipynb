{
  "nbformat": 4,
  "nbformat_minor": 0,
  "metadata": {
    "colab": {
      "provenance": []
    },
    "kernelspec": {
      "name": "python3",
      "display_name": "Python 3"
    },
    "language_info": {
      "name": "python"
    }
  },
  "cells": [
    {
      "cell_type": "code",
      "execution_count": 1,
      "metadata": {
        "colab": {
          "base_uri": "https://localhost:8080/"
        },
        "id": "HYKUuLQ4XXoB",
        "outputId": "3bdd22cd-c795-48f9-c39d-7d99be6c96ca"
      },
      "outputs": [
        {
          "output_type": "stream",
          "name": "stdout",
          "text": [
            "Enter the first number: 501\n",
            "Enter the second number: 500\n",
            "Enter the third number: 550\n",
            "550.0\n"
          ]
        }
      ],
      "source": [
        "def find_greatest_number(a, b, c):\n",
        "    if a > 2 and b > 2 and c > 2:\n",
        "        return max(a, b, c)\n",
        "    else:\n",
        "        return \"All three numbers must be greater than 2.\"\n",
        "\n",
        "# Taking input from the user\n",
        "num1 = float(input(\"Enter the first number: \"))\n",
        "num2 = float(input(\"Enter the second number: \"))\n",
        "num3 = float(input(\"Enter the third number: \"))\n",
        "\n",
        "# Finding and printing the greatest number\n",
        "result = find_greatest_number(num1, num2, num3)\n",
        "print(result)\n",
        "\n"
      ]
    }
  ]
}